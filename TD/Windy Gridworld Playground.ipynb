{
 "cells": [
  {
   "cell_type": "code",
   "execution_count": 1,
   "metadata": {},
   "outputs": [],
   "source": [
    "import gym\n",
    "import numpy as np\n",
    "import sys\n",
    "from IPython.display import clear_output\n",
    "import time\n",
    "\n",
    "if \"../\" not in sys.path:\n",
    "  sys.path.append(\"../\") \n",
    "\n",
    "from lib.envs.windy_gridworld import WindyGridworldEnv"
   ]
  },
  {
   "cell_type": "code",
   "execution_count": 2,
   "metadata": {},
   "outputs": [
    {
     "name": "stdout",
     "output_type": "stream",
     "text": [
      "(15, -1.0, False, {'prob': 1.0})\n",
      "o  o  o  o  o  o  o  o  o  o\n",
      "o  o  o  o  o  x  o  o  o  o\n",
      "o  o  o  o  o  o  o  o  o  o\n",
      "o  o  o  o  o  o  o  T  o  o\n",
      "o  o  o  o  o  o  o  o  o  o\n",
      "o  o  o  o  o  o  o  o  o  o\n",
      "o  o  o  o  o  o  o  o  o  o\n",
      "\n"
     ]
    }
   ],
   "source": [
    "env = WindyGridworldEnv()\n",
    "\n",
    "print(env.reset())\n",
    "env.render()\n",
    "time.sleep(0.5)\n",
    "clear_output()\n",
    "\n",
    "print(env.step(1))\n",
    "env.render()\n",
    "time.sleep(.5)\n",
    "clear_output()\n",
    "\n",
    "print(env.step(1))\n",
    "env.render()\n",
    "time.sleep(.5)\n",
    "clear_output()\n",
    "\n",
    "print(env.step(1))\n",
    "env.render()\n",
    "time.sleep(.5)\n",
    "clear_output()\n",
    "\n",
    "print(env.step(2))\n",
    "env.render()\n",
    "time.sleep(.5)\n",
    "clear_output()\n",
    "\n",
    "print(env.step(1))\n",
    "env.render()\n",
    "time.sleep(.5)\n",
    "clear_output()\n",
    "\n",
    "print(env.step(1))\n",
    "env.render()"
   ]
  }
 ],
 "metadata": {
  "kernelspec": {
   "display_name": "Python 3",
   "language": "python",
   "name": "python3"
  },
  "language_info": {
   "codemirror_mode": {
    "name": "ipython",
    "version": 3
   },
   "file_extension": ".py",
   "mimetype": "text/x-python",
   "name": "python",
   "nbconvert_exporter": "python",
   "pygments_lexer": "ipython3",
   "version": "3.7.5"
  }
 },
 "nbformat": 4,
 "nbformat_minor": 4
}
